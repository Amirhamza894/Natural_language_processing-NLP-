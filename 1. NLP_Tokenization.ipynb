{
 "cells": [
  {
   "cell_type": "markdown",
   "id": "parental-somewhere",
   "metadata": {},
   "source": [
    "# first of all install `!pip install nltk` in your anaconda enviroment"
   ]
  },
  {
   "cell_type": "code",
   "execution_count": 1,
   "id": "visible-football",
   "metadata": {},
   "outputs": [],
   "source": [
    "import nltk"
   ]
  },
  {
   "cell_type": "code",
   "execution_count": 2,
   "id": "israeli-shannon",
   "metadata": {},
   "outputs": [
    {
     "name": "stdout",
     "output_type": "stream",
     "text": [
      "showing info https://raw.githubusercontent.com/nltk/nltk_data/gh-pages/index.xml\n"
     ]
    },
    {
     "data": {
      "text/plain": [
       "True"
      ]
     },
     "execution_count": 2,
     "metadata": {},
     "output_type": "execute_result"
    }
   ],
   "source": [
    "nltk.download()"
   ]
  },
  {
   "cell_type": "code",
   "execution_count": 7,
   "id": "spiritual-nurse",
   "metadata": {},
   "outputs": [],
   "source": [
    "paragraph = '''Pakistani comedian and singer Ali Gul Pir, \n",
    "               who is well-known on social media for his funny yet sarcastic videos,\n",
    "               recently took to Twitter and made a parody of Prime Minister Imran Khan's famous speech on corruption.'''"
   ]
  },
  {
   "cell_type": "code",
   "execution_count": 8,
   "id": "automotive-likelihood",
   "metadata": {},
   "outputs": [],
   "source": [
    "sentences = nltk.sent_tokenize(paragraph)"
   ]
  },
  {
   "cell_type": "code",
   "execution_count": 9,
   "id": "tutorial-brisbane",
   "metadata": {},
   "outputs": [],
   "source": [
    "words = nltk.word_tokenize(paragraph)"
   ]
  },
  {
   "cell_type": "code",
   "execution_count": 10,
   "id": "smooth-exchange",
   "metadata": {},
   "outputs": [
    {
     "data": {
      "text/plain": [
       "[\"Pakistani comedian and singer Ali Gul Pir, \\n               who is well-known on social media for his funny yet sarcastic videos,\\n               recently took to Twitter and made a parody of Prime Minister Imran Khan's famous speech on corruption.\"]"
      ]
     },
     "execution_count": 10,
     "metadata": {},
     "output_type": "execute_result"
    }
   ],
   "source": [
    "sentences"
   ]
  },
  {
   "cell_type": "code",
   "execution_count": 11,
   "id": "parallel-constant",
   "metadata": {},
   "outputs": [
    {
     "data": {
      "text/plain": [
       "['Pakistani',\n",
       " 'comedian',\n",
       " 'and',\n",
       " 'singer',\n",
       " 'Ali',\n",
       " 'Gul',\n",
       " 'Pir',\n",
       " ',',\n",
       " 'who',\n",
       " 'is',\n",
       " 'well-known',\n",
       " 'on',\n",
       " 'social',\n",
       " 'media',\n",
       " 'for',\n",
       " 'his',\n",
       " 'funny',\n",
       " 'yet',\n",
       " 'sarcastic',\n",
       " 'videos',\n",
       " ',',\n",
       " 'recently',\n",
       " 'took',\n",
       " 'to',\n",
       " 'Twitter',\n",
       " 'and',\n",
       " 'made',\n",
       " 'a',\n",
       " 'parody',\n",
       " 'of',\n",
       " 'Prime',\n",
       " 'Minister',\n",
       " 'Imran',\n",
       " 'Khan',\n",
       " \"'s\",\n",
       " 'famous',\n",
       " 'speech',\n",
       " 'on',\n",
       " 'corruption',\n",
       " '.']"
      ]
     },
     "execution_count": 11,
     "metadata": {},
     "output_type": "execute_result"
    }
   ],
   "source": [
    "words"
   ]
  },
  {
   "cell_type": "code",
   "execution_count": null,
   "id": "intense-bryan",
   "metadata": {},
   "outputs": [],
   "source": []
  }
 ],
 "metadata": {
  "kernelspec": {
   "display_name": "Python 3",
   "language": "python",
   "name": "python3"
  },
  "language_info": {
   "codemirror_mode": {
    "name": "ipython",
    "version": 3
   },
   "file_extension": ".py",
   "mimetype": "text/x-python",
   "name": "python",
   "nbconvert_exporter": "python",
   "pygments_lexer": "ipython3",
   "version": "3.8.8"
  }
 },
 "nbformat": 4,
 "nbformat_minor": 5
}
