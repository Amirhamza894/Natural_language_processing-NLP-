{
 "cells": [
  {
   "cell_type": "markdown",
   "id": "complex-killer",
   "metadata": {},
   "source": [
    "## TF*IDF\n",
    "(Term Frequency)\n",
    "\n",
    "(Inverse Documentation Frequency)"
   ]
  },
  {
   "cell_type": "code",
   "execution_count": 29,
   "id": "painted-irish",
   "metadata": {},
   "outputs": [],
   "source": [
    "import nltk"
   ]
  },
  {
   "cell_type": "code",
   "execution_count": 30,
   "id": "deadly-george",
   "metadata": {},
   "outputs": [],
   "source": [
    "paragraph = '''An ideal (perfect) intelligent machine is a flexible agent which perceives its environment and takes actions to maximize its chance of success at some goal or objective.\n",
    "               As machines become increasingly capable, mental faculties once thought to require intelligence are removed from the definition.\n",
    "               For example, optical character recognition is no longer perceived as an example of \"artificial intelligence\": it is just a routine technology.'''"
   ]
  },
  {
   "cell_type": "code",
   "execution_count": 31,
   "id": "royal-brighton",
   "metadata": {},
   "outputs": [],
   "source": [
    "import re\n",
    "from nltk.corpus import stopwords\n",
    "from nltk.stem.porter import PorterStemmer\n",
    "from nltk.stem import WordNetLemmatizer"
   ]
  },
  {
   "cell_type": "code",
   "execution_count": 32,
   "id": "aware-pendant",
   "metadata": {},
   "outputs": [],
   "source": [
    "# ps = PorterStemmer()\n",
    "wordnet = WordNetLemmatizer()\n",
    "sentences = nltk.sent_tokenize(paragraph)\n",
    "corpus = []"
   ]
  },
  {
   "cell_type": "code",
   "execution_count": 33,
   "id": "biological-revision",
   "metadata": {},
   "outputs": [],
   "source": [
    "for i in range(len(sentences)):\n",
    "    review = re.sub('[^a-zA-Z]', ' ', sentences[i])\n",
    "    review = review.lower()\n",
    "    review = review.split()\n",
    "    review = [wordnet.lemmatize(word) for word in review if not word in set(stopwords.words('english'))]\n",
    "    review = ' '.join(review)\n",
    "    corpus.append(review)"
   ]
  },
  {
   "cell_type": "code",
   "execution_count": 34,
   "id": "laughing-calculator",
   "metadata": {},
   "outputs": [
    {
     "data": {
      "text/plain": [
       "['ideal perfect intelligent machine flexible agent perceives environment take action maximize chance success goal objective',\n",
       " 'machine become increasingly capable mental faculty thought require intelligence removed definition',\n",
       " 'example optical character recognition longer perceived example artificial intelligence routine technology']"
      ]
     },
     "execution_count": 34,
     "metadata": {},
     "output_type": "execute_result"
    }
   ],
   "source": [
    "corpus"
   ]
  },
  {
   "cell_type": "code",
   "execution_count": 35,
   "id": "little-vegetarian",
   "metadata": {},
   "outputs": [
    {
     "data": {
      "text/plain": [
       "['An ideal (perfect) intelligent machine is a flexible agent which perceives its environment and takes actions to maximize its chance of success at some goal or objective.',\n",
       " 'As machines become increasingly capable, mental faculties once thought to require intelligence are removed from the definition.',\n",
       " 'For example, optical character recognition is no longer perceived as an example of \"artificial intelligence\": it is just a routine technology.']"
      ]
     },
     "execution_count": 35,
     "metadata": {},
     "output_type": "execute_result"
    }
   ],
   "source": [
    "sentences"
   ]
  },
  {
   "cell_type": "markdown",
   "id": "adapted-repair",
   "metadata": {},
   "source": [
    "* <mark>`Creating tf*idf model`</mark>"
   ]
  },
  {
   "cell_type": "code",
   "execution_count": 16,
   "id": "understanding-prague",
   "metadata": {},
   "outputs": [],
   "source": [
    "from sklearn.feature_extraction.text import TfidfVectorizer\n",
    "cv = TfidfVectorizer()\n",
    "X = cv.fit_transform(corpus).toarray()"
   ]
  },
  {
   "cell_type": "code",
   "execution_count": 21,
   "id": "optional-prior",
   "metadata": {},
   "outputs": [
    {
     "data": {
      "text/plain": [
       "array([[0.27210883, 0.27210883, 0.        , 0.        , 0.        ,\n",
       "        0.27210883, 0.        , 0.        , 0.27210883, 0.        ,\n",
       "        0.        , 0.27210883, 0.27210883, 0.27210883, 0.        ,\n",
       "        0.16071186, 0.        , 0.20694578, 0.27210883, 0.        ,\n",
       "        0.27210883, 0.        , 0.20694578, 0.27210883, 0.        ,\n",
       "        0.        , 0.        , 0.        , 0.27210883, 0.27210883,\n",
       "        0.        , 0.        ],\n",
       "       [0.        , 0.        , 0.        , 0.31738473, 0.31738473,\n",
       "        0.        , 0.        , 0.31738473, 0.        , 0.        ,\n",
       "        0.31738473, 0.        , 0.        , 0.        , 0.31738473,\n",
       "        0.18745253, 0.        , 0.24137927, 0.        , 0.31738473,\n",
       "        0.        , 0.        , 0.        , 0.        , 0.        ,\n",
       "        0.31738473, 0.31738473, 0.        , 0.        , 0.        ,\n",
       "        0.        , 0.31738473],\n",
       "       [0.        , 0.        , 0.28955446, 0.        , 0.        ,\n",
       "        0.        , 0.28955446, 0.        , 0.        , 0.57910892,\n",
       "        0.        , 0.        , 0.        , 0.        , 0.        ,\n",
       "        0.17101553, 0.28955446, 0.        , 0.        , 0.        ,\n",
       "        0.        , 0.28955446, 0.22021363, 0.        , 0.28955446,\n",
       "        0.        , 0.        , 0.28955446, 0.        , 0.        ,\n",
       "        0.28955446, 0.        ]])"
      ]
     },
     "execution_count": 21,
     "metadata": {},
     "output_type": "execute_result"
    }
   ],
   "source": [
    "X"
   ]
  },
  {
   "cell_type": "code",
   "execution_count": 36,
   "id": "outside-feeding",
   "metadata": {},
   "outputs": [],
   "source": [
    "import pandas as pd\n",
    "df = pd.DataFrame(X)"
   ]
  },
  {
   "cell_type": "code",
   "execution_count": 38,
   "id": "adjustable-designation",
   "metadata": {},
   "outputs": [
    {
     "data": {
      "text/html": [
       "<div>\n",
       "<style scoped>\n",
       "    .dataframe tbody tr th:only-of-type {\n",
       "        vertical-align: middle;\n",
       "    }\n",
       "\n",
       "    .dataframe tbody tr th {\n",
       "        vertical-align: top;\n",
       "    }\n",
       "\n",
       "    .dataframe thead th {\n",
       "        text-align: right;\n",
       "    }\n",
       "</style>\n",
       "<table border=\"1\" class=\"dataframe\">\n",
       "  <thead>\n",
       "    <tr style=\"text-align: right;\">\n",
       "      <th></th>\n",
       "      <th>0</th>\n",
       "      <th>1</th>\n",
       "      <th>2</th>\n",
       "      <th>3</th>\n",
       "      <th>4</th>\n",
       "      <th>5</th>\n",
       "      <th>6</th>\n",
       "      <th>7</th>\n",
       "      <th>8</th>\n",
       "      <th>9</th>\n",
       "      <th>...</th>\n",
       "      <th>22</th>\n",
       "      <th>23</th>\n",
       "      <th>24</th>\n",
       "      <th>25</th>\n",
       "      <th>26</th>\n",
       "      <th>27</th>\n",
       "      <th>28</th>\n",
       "      <th>29</th>\n",
       "      <th>30</th>\n",
       "      <th>31</th>\n",
       "    </tr>\n",
       "  </thead>\n",
       "  <tbody>\n",
       "    <tr>\n",
       "      <th>0</th>\n",
       "      <td>0.272109</td>\n",
       "      <td>0.272109</td>\n",
       "      <td>0.000000</td>\n",
       "      <td>0.000000</td>\n",
       "      <td>0.000000</td>\n",
       "      <td>0.272109</td>\n",
       "      <td>0.000000</td>\n",
       "      <td>0.000000</td>\n",
       "      <td>0.272109</td>\n",
       "      <td>0.000000</td>\n",
       "      <td>...</td>\n",
       "      <td>0.206946</td>\n",
       "      <td>0.272109</td>\n",
       "      <td>0.000000</td>\n",
       "      <td>0.000000</td>\n",
       "      <td>0.000000</td>\n",
       "      <td>0.000000</td>\n",
       "      <td>0.272109</td>\n",
       "      <td>0.272109</td>\n",
       "      <td>0.000000</td>\n",
       "      <td>0.000000</td>\n",
       "    </tr>\n",
       "    <tr>\n",
       "      <th>1</th>\n",
       "      <td>0.000000</td>\n",
       "      <td>0.000000</td>\n",
       "      <td>0.000000</td>\n",
       "      <td>0.317385</td>\n",
       "      <td>0.317385</td>\n",
       "      <td>0.000000</td>\n",
       "      <td>0.000000</td>\n",
       "      <td>0.317385</td>\n",
       "      <td>0.000000</td>\n",
       "      <td>0.000000</td>\n",
       "      <td>...</td>\n",
       "      <td>0.000000</td>\n",
       "      <td>0.000000</td>\n",
       "      <td>0.000000</td>\n",
       "      <td>0.317385</td>\n",
       "      <td>0.317385</td>\n",
       "      <td>0.000000</td>\n",
       "      <td>0.000000</td>\n",
       "      <td>0.000000</td>\n",
       "      <td>0.000000</td>\n",
       "      <td>0.317385</td>\n",
       "    </tr>\n",
       "    <tr>\n",
       "      <th>2</th>\n",
       "      <td>0.000000</td>\n",
       "      <td>0.000000</td>\n",
       "      <td>0.289554</td>\n",
       "      <td>0.000000</td>\n",
       "      <td>0.000000</td>\n",
       "      <td>0.000000</td>\n",
       "      <td>0.289554</td>\n",
       "      <td>0.000000</td>\n",
       "      <td>0.000000</td>\n",
       "      <td>0.579109</td>\n",
       "      <td>...</td>\n",
       "      <td>0.220214</td>\n",
       "      <td>0.000000</td>\n",
       "      <td>0.289554</td>\n",
       "      <td>0.000000</td>\n",
       "      <td>0.000000</td>\n",
       "      <td>0.289554</td>\n",
       "      <td>0.000000</td>\n",
       "      <td>0.000000</td>\n",
       "      <td>0.289554</td>\n",
       "      <td>0.000000</td>\n",
       "    </tr>\n",
       "  </tbody>\n",
       "</table>\n",
       "<p>3 rows × 32 columns</p>\n",
       "</div>"
      ],
      "text/plain": [
       "         0         1         2         3         4         5         6   \\\n",
       "0  0.272109  0.272109  0.000000  0.000000  0.000000  0.272109  0.000000   \n",
       "1  0.000000  0.000000  0.000000  0.317385  0.317385  0.000000  0.000000   \n",
       "2  0.000000  0.000000  0.289554  0.000000  0.000000  0.000000  0.289554   \n",
       "\n",
       "         7         8         9   ...        22        23        24        25  \\\n",
       "0  0.000000  0.272109  0.000000  ...  0.206946  0.272109  0.000000  0.000000   \n",
       "1  0.317385  0.000000  0.000000  ...  0.000000  0.000000  0.000000  0.317385   \n",
       "2  0.000000  0.000000  0.579109  ...  0.220214  0.000000  0.289554  0.000000   \n",
       "\n",
       "         26        27        28        29        30        31  \n",
       "0  0.000000  0.000000  0.272109  0.272109  0.000000  0.000000  \n",
       "1  0.317385  0.000000  0.000000  0.000000  0.000000  0.317385  \n",
       "2  0.000000  0.289554  0.000000  0.000000  0.289554  0.000000  \n",
       "\n",
       "[3 rows x 32 columns]"
      ]
     },
     "execution_count": 38,
     "metadata": {},
     "output_type": "execute_result"
    }
   ],
   "source": [
    "df"
   ]
  },
  {
   "cell_type": "code",
   "execution_count": null,
   "id": "afraid-spice",
   "metadata": {},
   "outputs": [],
   "source": []
  }
 ],
 "metadata": {
  "kernelspec": {
   "display_name": "Python 3",
   "language": "python",
   "name": "python3"
  },
  "language_info": {
   "codemirror_mode": {
    "name": "ipython",
    "version": 3
   },
   "file_extension": ".py",
   "mimetype": "text/x-python",
   "name": "python",
   "nbconvert_exporter": "python",
   "pygments_lexer": "ipython3",
   "version": "3.8.8"
  }
 },
 "nbformat": 4,
 "nbformat_minor": 5
}
