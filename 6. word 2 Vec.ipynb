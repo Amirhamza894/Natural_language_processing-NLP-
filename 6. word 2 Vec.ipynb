{
 "cells": [
  {
   "cell_type": "code",
   "execution_count": 1,
   "id": "existing-modeling",
   "metadata": {},
   "outputs": [],
   "source": [
    "import nltk"
   ]
  },
  {
   "cell_type": "code",
   "execution_count": 62,
   "id": "aquatic-found",
   "metadata": {},
   "outputs": [],
   "source": [
    "from gensim.models import Word2Vec\n",
    "from nltk.corpus import stopwords\n",
    "import re\n",
    "import numpy as np"
   ]
  },
  {
   "cell_type": "code",
   "execution_count": 41,
   "id": "defensive-andrew",
   "metadata": {},
   "outputs": [],
   "source": [
    "paragraph = '''Artificial intelligence (AI) is intelligence demonstrated by machines, unlike the natural intelligence displayed by humans and animals, which involves consciousness and emotionality.\n",
    "               The distinction between the former and the latter categories is often revealed by the acronym chosen.\n",
    "               'Strong' AI is usually labelled as AGI (Artificial General Intelligence) while attempts to emulate 'natural' intelligence have been called ABI (Artificial Biological Intelligence).\n",
    "               Leading AI textbooks define the field as the study of \"intelligent agents\": any device that perceives its environment and takes actions that maximize its chance of successfully achieving its goals.\n",
    "               Colloquially, the term \"artificial intelligence\" is often used to describe machines (or computers) that mimic \"cognitive\" functions that humans associate with the human mind, such as \"learning\" and \"problem solving\".'''"
   ]
  },
  {
   "cell_type": "markdown",
   "id": "higher-laser",
   "metadata": {},
   "source": [
    "### Preprocess the data"
   ]
  },
  {
   "cell_type": "code",
   "execution_count": 42,
   "id": "flying-answer",
   "metadata": {},
   "outputs": [],
   "source": [
    "text = re.sub(r'\\[[0-9]*\\]',' ', paragraph)\n",
    "text = re.sub(r'\\s+',' ', text)\n",
    "text = text.lower()\n",
    "text = re.sub(r'\\d', ' ',text)\n",
    "text = re.sub(r'\\s+',' ',text )\n",
    "text = re.sub(r'\"',' ',text )\n",
    "text = re.sub(r'\\+', ' ' , text )\n",
    "text = re.sub(r'\\(+',' ',text )\n",
    "text = re.sub(r'\\)+',' ',text )\n",
    "text = re.sub(r'\\'+',' ',text )\n",
    "text = re.sub(r'\\'+',' ',text )\n",
    "text = re.sub(r'\\,+',' ',text )\n",
    "# text = re.sub(r'\\.+',' ',text )\n",
    "text = re.sub(r'\\:+',' ',text )"
   ]
  },
  {
   "cell_type": "code",
   "execution_count": 43,
   "id": "bulgarian-policy",
   "metadata": {},
   "outputs": [
    {
     "data": {
      "text/plain": [
       "'artificial intelligence  ai  is intelligence demonstrated by machines  unlike the natural intelligence displayed by humans and animals  which involves consciousness and emotionality. the distinction between the former and the latter categories is often revealed by the acronym chosen.  strong  ai is usually labelled as agi  artificial general intelligence  while attempts to emulate  natural  intelligence have been called abi  artificial biological intelligence . leading ai textbooks define the field as the study of  intelligent agents   any device that perceives its environment and takes actions that maximize its chance of successfully achieving its goals. colloquially  the term  artificial intelligence  is often used to describe machines  or computers  that mimic  cognitive  functions that humans associate with the human mind  such as  learning  and  problem solving .'"
      ]
     },
     "execution_count": 43,
     "metadata": {},
     "output_type": "execute_result"
    }
   ],
   "source": [
    "text"
   ]
  },
  {
   "cell_type": "markdown",
   "id": "weird-league",
   "metadata": {},
   "source": [
    "# prepare the dataset"
   ]
  },
  {
   "cell_type": "code",
   "execution_count": 44,
   "id": "detected-muscle",
   "metadata": {},
   "outputs": [],
   "source": [
    "sentences = nltk.sent_tokenize(text)"
   ]
  },
  {
   "cell_type": "code",
   "execution_count": 46,
   "id": "moved-estimate",
   "metadata": {},
   "outputs": [
    {
     "data": {
      "text/plain": [
       "(['artificial intelligence  ai  is intelligence demonstrated by machines  unlike the natural intelligence displayed by humans and animals  which involves consciousness and emotionality.',\n",
       "  'the distinction between the former and the latter categories is often revealed by the acronym chosen.',\n",
       "  'strong  ai is usually labelled as agi  artificial general intelligence  while attempts to emulate  natural  intelligence have been called abi  artificial biological intelligence .',\n",
       "  'leading ai textbooks define the field as the study of  intelligent agents   any device that perceives its environment and takes actions that maximize its chance of successfully achieving its goals.',\n",
       "  'colloquially  the term  artificial intelligence  is often used to describe machines  or computers  that mimic  cognitive  functions that humans associate with the human mind  such as  learning  and  problem solving .'],\n",
       " 5)"
      ]
     },
     "execution_count": 46,
     "metadata": {},
     "output_type": "execute_result"
    }
   ],
   "source": [
    "sentences, len(sentences)"
   ]
  },
  {
   "cell_type": "code",
   "execution_count": 47,
   "id": "perfect-premium",
   "metadata": {},
   "outputs": [],
   "source": [
    "sentences = [nltk.word_tokenize(sentences) for sentences in sentences]"
   ]
  },
  {
   "cell_type": "code",
   "execution_count": 50,
   "id": "asian-netscape",
   "metadata": {},
   "outputs": [
    {
     "data": {
      "text/plain": [
       "['artificial',\n",
       " 'intelligence',\n",
       " 'ai',\n",
       " 'is',\n",
       " 'intelligence',\n",
       " 'demonstrated',\n",
       " 'by',\n",
       " 'machines',\n",
       " 'unlike',\n",
       " 'the',\n",
       " 'natural',\n",
       " 'intelligence',\n",
       " 'displayed',\n",
       " 'by',\n",
       " 'humans',\n",
       " 'and',\n",
       " 'animals',\n",
       " 'which',\n",
       " 'involves',\n",
       " 'consciousness',\n",
       " 'and',\n",
       " 'emotionality',\n",
       " '.']"
      ]
     },
     "execution_count": 50,
     "metadata": {},
     "output_type": "execute_result"
    }
   ],
   "source": [
    "sentences[0]"
   ]
  },
  {
   "cell_type": "code",
   "execution_count": 51,
   "id": "tender-ethics",
   "metadata": {},
   "outputs": [],
   "source": [
    "for i in range(len(sentences)):\n",
    "    sentences[i] = [word for word in sentences[i] if word not in stopwords.words('english')]"
   ]
  },
  {
   "cell_type": "code",
   "execution_count": 56,
   "id": "flush-hands",
   "metadata": {},
   "outputs": [
    {
     "data": {
      "text/plain": [
       "['artificial',\n",
       " 'intelligence',\n",
       " 'ai',\n",
       " 'intelligence',\n",
       " 'demonstrated',\n",
       " 'machines',\n",
       " 'unlike',\n",
       " 'natural',\n",
       " 'intelligence',\n",
       " 'displayed',\n",
       " 'humans',\n",
       " 'animals',\n",
       " 'involves',\n",
       " 'consciousness',\n",
       " 'emotionality',\n",
       " '.']"
      ]
     },
     "execution_count": 56,
     "metadata": {},
     "output_type": "execute_result"
    }
   ],
   "source": [
    "sentences[0]"
   ]
  },
  {
   "cell_type": "code",
   "execution_count": 57,
   "id": "armed-geneva",
   "metadata": {},
   "outputs": [],
   "source": [
    "model =Word2Vec(sentences, min_count=1)"
   ]
  },
  {
   "cell_type": "code",
   "execution_count": 53,
   "id": "sharp-corrections",
   "metadata": {},
   "outputs": [],
   "source": [
    "words = model.wv.vocab # vocablary"
   ]
  },
  {
   "cell_type": "code",
   "execution_count": 59,
   "id": "living-chassis",
   "metadata": {},
   "outputs": [
    {
     "data": {
      "text/plain": [
       "{'artificial': <gensim.models.keyedvectors.Vocab at 0x2311bf465e0>,\n",
       " 'intelligence': <gensim.models.keyedvectors.Vocab at 0x2311bf46790>,\n",
       " 'ai': <gensim.models.keyedvectors.Vocab at 0x2311bf46b50>,\n",
       " 'demonstrated': <gensim.models.keyedvectors.Vocab at 0x2311bf46fd0>,\n",
       " 'machines': <gensim.models.keyedvectors.Vocab at 0x2311bf4e880>,\n",
       " 'unlike': <gensim.models.keyedvectors.Vocab at 0x2311bf4ed60>,\n",
       " 'natural': <gensim.models.keyedvectors.Vocab at 0x2311bf4e610>,\n",
       " 'displayed': <gensim.models.keyedvectors.Vocab at 0x2311bf4e1c0>,\n",
       " 'humans': <gensim.models.keyedvectors.Vocab at 0x2311bf4e0a0>,\n",
       " 'animals': <gensim.models.keyedvectors.Vocab at 0x2311bf4ecd0>,\n",
       " 'involves': <gensim.models.keyedvectors.Vocab at 0x2311bf4eeb0>,\n",
       " 'consciousness': <gensim.models.keyedvectors.Vocab at 0x2311bf4e6a0>,\n",
       " 'emotionality': <gensim.models.keyedvectors.Vocab at 0x2311bf4e6d0>,\n",
       " '.': <gensim.models.keyedvectors.Vocab at 0x2311bf4e820>,\n",
       " 'distinction': <gensim.models.keyedvectors.Vocab at 0x2311bf4eaf0>,\n",
       " 'former': <gensim.models.keyedvectors.Vocab at 0x2311bf4e460>,\n",
       " 'latter': <gensim.models.keyedvectors.Vocab at 0x2311c2d2970>,\n",
       " 'categories': <gensim.models.keyedvectors.Vocab at 0x2311c2d2070>,\n",
       " 'often': <gensim.models.keyedvectors.Vocab at 0x2311c2d2a90>,\n",
       " 'revealed': <gensim.models.keyedvectors.Vocab at 0x2311c2d2df0>,\n",
       " 'acronym': <gensim.models.keyedvectors.Vocab at 0x2311c2d2fa0>,\n",
       " 'chosen': <gensim.models.keyedvectors.Vocab at 0x2311c2d0f40>,\n",
       " 'strong': <gensim.models.keyedvectors.Vocab at 0x2311c2d0d60>,\n",
       " 'usually': <gensim.models.keyedvectors.Vocab at 0x2311bee4bb0>,\n",
       " 'labelled': <gensim.models.keyedvectors.Vocab at 0x2311bf3e220>,\n",
       " 'agi': <gensim.models.keyedvectors.Vocab at 0x2311bf3e3d0>,\n",
       " 'general': <gensim.models.keyedvectors.Vocab at 0x2311bf3ea30>,\n",
       " 'attempts': <gensim.models.keyedvectors.Vocab at 0x2311bf3e670>,\n",
       " 'emulate': <gensim.models.keyedvectors.Vocab at 0x2311bf523a0>,\n",
       " 'called': <gensim.models.keyedvectors.Vocab at 0x2311bf52160>,\n",
       " 'abi': <gensim.models.keyedvectors.Vocab at 0x2311bf52400>,\n",
       " 'biological': <gensim.models.keyedvectors.Vocab at 0x2311bf52130>,\n",
       " 'leading': <gensim.models.keyedvectors.Vocab at 0x2311bf522e0>,\n",
       " 'textbooks': <gensim.models.keyedvectors.Vocab at 0x2311bf52490>,\n",
       " 'define': <gensim.models.keyedvectors.Vocab at 0x2311bf520d0>,\n",
       " 'field': <gensim.models.keyedvectors.Vocab at 0x2311bf52a90>,\n",
       " 'study': <gensim.models.keyedvectors.Vocab at 0x2311bf524c0>,\n",
       " 'intelligent': <gensim.models.keyedvectors.Vocab at 0x2311bf52b50>,\n",
       " 'agents': <gensim.models.keyedvectors.Vocab at 0x2311bf525b0>,\n",
       " 'device': <gensim.models.keyedvectors.Vocab at 0x2311bf52c70>,\n",
       " 'perceives': <gensim.models.keyedvectors.Vocab at 0x2311bf52a00>,\n",
       " 'environment': <gensim.models.keyedvectors.Vocab at 0x2311bf52370>,\n",
       " 'takes': <gensim.models.keyedvectors.Vocab at 0x2311bf52cd0>,\n",
       " 'actions': <gensim.models.keyedvectors.Vocab at 0x2311bf52d60>,\n",
       " 'maximize': <gensim.models.keyedvectors.Vocab at 0x2311bf52df0>,\n",
       " 'chance': <gensim.models.keyedvectors.Vocab at 0x2311bf52e80>,\n",
       " 'successfully': <gensim.models.keyedvectors.Vocab at 0x2311bf52f10>,\n",
       " 'achieving': <gensim.models.keyedvectors.Vocab at 0x2311bf52fa0>,\n",
       " 'goals': <gensim.models.keyedvectors.Vocab at 0x2311bf52550>,\n",
       " 'colloquially': <gensim.models.keyedvectors.Vocab at 0x2311bc866a0>,\n",
       " 'term': <gensim.models.keyedvectors.Vocab at 0x2311bc866d0>,\n",
       " 'used': <gensim.models.keyedvectors.Vocab at 0x2311bc86670>,\n",
       " 'describe': <gensim.models.keyedvectors.Vocab at 0x2311bc86760>,\n",
       " 'computers': <gensim.models.keyedvectors.Vocab at 0x2311bc86d60>,\n",
       " 'mimic': <gensim.models.keyedvectors.Vocab at 0x2311bc86970>,\n",
       " 'cognitive': <gensim.models.keyedvectors.Vocab at 0x2311bc86910>,\n",
       " 'functions': <gensim.models.keyedvectors.Vocab at 0x2311bc86940>,\n",
       " 'associate': <gensim.models.keyedvectors.Vocab at 0x2311bc86550>,\n",
       " 'human': <gensim.models.keyedvectors.Vocab at 0x2311bc865e0>,\n",
       " 'mind': <gensim.models.keyedvectors.Vocab at 0x2311bc86700>,\n",
       " 'learning': <gensim.models.keyedvectors.Vocab at 0x2311bc867c0>,\n",
       " 'problem': <gensim.models.keyedvectors.Vocab at 0x2311c2dd1c0>,\n",
       " 'solving': <gensim.models.keyedvectors.Vocab at 0x2311c2dd190>}"
      ]
     },
     "execution_count": 59,
     "metadata": {},
     "output_type": "execute_result"
    }
   ],
   "source": [
    "words"
   ]
  },
  {
   "cell_type": "code",
   "execution_count": 60,
   "id": "taken-raising",
   "metadata": {},
   "outputs": [],
   "source": [
    "vector = model.wv['device']"
   ]
  },
  {
   "cell_type": "code",
   "execution_count": 64,
   "id": "attempted-running",
   "metadata": {},
   "outputs": [
    {
     "data": {
      "text/plain": [
       "array([-3.2746969e-03,  4.8221359e-03,  4.1950741e-03,  2.9707656e-03,\n",
       "       -8.2473678e-05,  1.6816205e-03, -3.6026742e-03,  2.2184183e-03,\n",
       "        4.6044099e-03, -4.0549277e-03,  6.9225190e-04, -1.4797857e-03,\n",
       "        1.4818120e-03,  4.4385483e-03, -2.3883611e-03,  4.9595948e-04,\n",
       "       -4.7651469e-03, -8.0748176e-04, -3.5031573e-03,  1.9044990e-03,\n",
       "       -6.3943886e-04, -3.2370435e-03,  4.8401910e-03, -4.3179858e-03,\n",
       "       -3.2364435e-03,  4.2531341e-03, -1.4921257e-03, -2.4486333e-03,\n",
       "        1.4367121e-03,  2.8324567e-03, -1.2400742e-04,  4.8365816e-03,\n",
       "        3.1353519e-04,  5.5915327e-04, -3.4864524e-03,  4.7028223e-03,\n",
       "        4.2276019e-03, -3.6769784e-03,  2.2585997e-03,  2.6589760e-03,\n",
       "        1.3664982e-03,  3.0422374e-03, -1.7995614e-03, -3.4429505e-04,\n",
       "        2.2470097e-03, -4.9894833e-04, -4.4592032e-03, -4.6731746e-03,\n",
       "        1.0138962e-03, -3.8902722e-03, -2.3352471e-03,  5.7637302e-04,\n",
       "        4.2800736e-03, -2.0617864e-03,  3.4770539e-03,  4.1199974e-03,\n",
       "        3.9770328e-03,  4.2389096e-03, -3.6575848e-03, -9.0428011e-04,\n",
       "        4.3395665e-03, -7.9639343e-04,  2.1045809e-03, -1.7193084e-03,\n",
       "       -3.9294539e-03, -2.3894035e-03,  2.9551382e-03, -3.6851431e-03,\n",
       "       -2.5903024e-03,  3.7292058e-03,  1.5504366e-03,  3.7649712e-03,\n",
       "        1.5587440e-03, -4.5842943e-03,  4.7552516e-03, -2.1623978e-03,\n",
       "       -1.2636750e-03, -2.0968693e-03, -1.3361496e-03,  2.9950486e-03,\n",
       "        1.2402592e-04,  4.4418634e-03, -3.2550760e-03, -2.4217004e-03,\n",
       "       -5.0010934e-04, -4.7988719e-03,  2.9234483e-03,  3.4228289e-03,\n",
       "        1.6522863e-03,  1.9327570e-06,  9.7051566e-04, -7.5864716e-04,\n",
       "        1.1283538e-03,  5.2662181e-05,  1.9649875e-03,  1.0599368e-03,\n",
       "       -1.2689901e-03, -4.5786667e-04,  1.3988626e-03,  2.2296880e-03],\n",
       "      dtype=float32)"
      ]
     },
     "execution_count": 64,
     "metadata": {},
     "output_type": "execute_result"
    }
   ],
   "source": [
    "vector"
   ]
  },
  {
   "cell_type": "code",
   "execution_count": 65,
   "id": "hired-bargain",
   "metadata": {},
   "outputs": [
    {
     "data": {
      "text/plain": [
       "(100,)"
      ]
     },
     "execution_count": 65,
     "metadata": {},
     "output_type": "execute_result"
    }
   ],
   "source": [
    "vector.shape"
   ]
  },
  {
   "cell_type": "code",
   "execution_count": 69,
   "id": "conscious-agenda",
   "metadata": {},
   "outputs": [],
   "source": [
    "similar = model.wv.most_similar('artificial')"
   ]
  },
  {
   "cell_type": "code",
   "execution_count": 70,
   "id": "freelance-bloom",
   "metadata": {},
   "outputs": [
    {
     "data": {
      "text/plain": [
       "[('leading', 0.2593465745449066),\n",
       " ('natural', 0.23379497230052948),\n",
       " ('actions', 0.17415376007556915),\n",
       " ('successfully', 0.1713218241930008),\n",
       " ('computers', 0.17061316967010498),\n",
       " ('mind', 0.15536904335021973),\n",
       " ('associate', 0.14930176734924316),\n",
       " ('maximize', 0.14711712300777435),\n",
       " ('define', 0.14273163676261902),\n",
       " ('achieving', 0.1271485686302185)]"
      ]
     },
     "execution_count": 70,
     "metadata": {},
     "output_type": "execute_result"
    }
   ],
   "source": [
    "similar"
   ]
  },
  {
   "cell_type": "code",
   "execution_count": null,
   "id": "chicken-purchase",
   "metadata": {},
   "outputs": [],
   "source": []
  }
 ],
 "metadata": {
  "kernelspec": {
   "display_name": "Python 3",
   "language": "python",
   "name": "python3"
  },
  "language_info": {
   "codemirror_mode": {
    "name": "ipython",
    "version": 3
   },
   "file_extension": ".py",
   "mimetype": "text/x-python",
   "name": "python",
   "nbconvert_exporter": "python",
   "pygments_lexer": "ipython3",
   "version": "3.8.8"
  }
 },
 "nbformat": 4,
 "nbformat_minor": 5
}
