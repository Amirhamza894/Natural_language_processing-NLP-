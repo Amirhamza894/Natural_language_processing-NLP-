{
 "cells": [
  {
   "cell_type": "code",
   "execution_count": 38,
   "id": "brief-thesis",
   "metadata": {},
   "outputs": [],
   "source": [
    "import nltk"
   ]
  },
  {
   "cell_type": "code",
   "execution_count": 39,
   "id": "injured-charger",
   "metadata": {},
   "outputs": [],
   "source": [
    "paragraph = '''A paragraph is a series of related sentences developing a central idea, called the topic.\n",
    "               Try to think about paragraphs in terms of thematic unity: a paragraph is a sentence or a group of sentences that supports one central, unified idea.\n",
    "               Paragraphs add one idea at a time to your broader argument'''"
   ]
  },
  {
   "cell_type": "markdown",
   "id": "modern-tsunami",
   "metadata": {},
   "source": [
    "**re library is basically a regolar expression for cleaning of the text. removing stopwords remove comma, full stop, lemmatizing, stemming, lowering the text**\n"
   ]
  },
  {
   "cell_type": "code",
   "execution_count": 40,
   "id": "arctic-peripheral",
   "metadata": {},
   "outputs": [],
   "source": [
    "import re\n",
    "# re library is basically a regolar expression for cleaning of the text. removing stopwords remove comma, full stop, lemmatizing, stemming, lowering the text\n",
    "from nltk.corpus import stopwords\n",
    "from nltk.stem.porter import PorterStemmer\n",
    "from nltk.stem import WordNetLemmatizer"
   ]
  },
  {
   "cell_type": "code",
   "execution_count": 51,
   "id": "alpine-potential",
   "metadata": {},
   "outputs": [],
   "source": [
    "ps = PorterStemmer()\n",
    "wordnet = WordNetLemmatizer()\n",
    "sentences = nltk.sent_tokenize(paragraph)\n",
    "corpuss = []"
   ]
  },
  {
   "cell_type": "code",
   "execution_count": 52,
   "id": "tropical-password",
   "metadata": {},
   "outputs": [
    {
     "data": {
      "text/plain": [
       "['A paragraph is a series of related sentences developing a central idea, called the topic.',\n",
       " 'Try to think about paragraphs in terms of thematic unity: a paragraph is a sentence or a group of sentences that supports one central, unified idea.',\n",
       " 'Paragraphs add one idea at a time to your broader argument']"
      ]
     },
     "execution_count": 52,
     "metadata": {},
     "output_type": "execute_result"
    }
   ],
   "source": [
    "sentences"
   ]
  },
  {
   "cell_type": "markdown",
   "id": "intellectual-owner",
   "metadata": {},
   "source": [
    "### Use for stemming"
   ]
  },
  {
   "cell_type": "code",
   "execution_count": 53,
   "id": "superb-wallpaper",
   "metadata": {},
   "outputs": [],
   "source": [
    "for i in range(len(sentences)):\n",
    "    review = re.sub('[^a-zA-Z]', ' ', sentences[i])\n",
    "    review = review.lower()\n",
    "    review = review.split()\n",
    "    review = [ps.stem(word) for word in review if not word in set(stopwords.words('english'))]\n",
    "    review = ' '.join(review)\n",
    "    corpuss.append(review)"
   ]
  },
  {
   "cell_type": "code",
   "execution_count": 54,
   "id": "strategic-victoria",
   "metadata": {},
   "outputs": [
    {
     "data": {
      "text/plain": [
       "['paragraph seri relat sentenc develop central idea call topic',\n",
       " 'tri think paragraph term themat uniti paragraph sentenc group sentenc support one central unifi idea',\n",
       " 'paragraph add one idea time broader argument']"
      ]
     },
     "execution_count": 54,
     "metadata": {},
     "output_type": "execute_result"
    }
   ],
   "source": [
    "corpuss"
   ]
  },
  {
   "cell_type": "markdown",
   "id": "weekly-massachusetts",
   "metadata": {},
   "source": [
    "1. re.sub use for removing all things except a to z and A to Z.. mean all capital and small latters\n",
    "2. converting at into lower case (all text)\n",
    "3. split will set a list of words and store at in review\n",
    "4. check stopwords in all text\n",
    "5. store that important words in corpus varibale"
   ]
  },
  {
   "cell_type": "markdown",
   "id": "preceding-figure",
   "metadata": {},
   "source": [
    "### use for lemmatization"
   ]
  },
  {
   "cell_type": "code",
   "execution_count": 57,
   "id": "reliable-prerequisite",
   "metadata": {},
   "outputs": [],
   "source": [
    "corpus = []"
   ]
  },
  {
   "cell_type": "code",
   "execution_count": 58,
   "id": "aggressive-crack",
   "metadata": {},
   "outputs": [],
   "source": [
    "for i in range(len(sentences)):\n",
    "    review = re.sub('[^a-zA-Z]', ' ', sentences[i])\n",
    "    review = review.lower()\n",
    "    review = review.split()\n",
    "    review = [wordnet.lemmatize(word) for word in review if not word in set(stopwords.words('english'))]\n",
    "    review = ' '.join(review)\n",
    "    corpus.append(review)"
   ]
  },
  {
   "cell_type": "code",
   "execution_count": 59,
   "id": "transparent-elephant",
   "metadata": {},
   "outputs": [
    {
     "data": {
      "text/plain": [
       "['paragraph series related sentence developing central idea called topic',\n",
       " 'try think paragraph term thematic unity paragraph sentence group sentence support one central unified idea',\n",
       " 'paragraph add one idea time broader argument']"
      ]
     },
     "execution_count": 59,
     "metadata": {},
     "output_type": "execute_result"
    }
   ],
   "source": [
    "corpus"
   ]
  },
  {
   "cell_type": "markdown",
   "id": "durable-sculpture",
   "metadata": {},
   "source": [
    "### Creating a Bag of Words"
   ]
  },
  {
   "cell_type": "code",
   "execution_count": 60,
   "id": "satisfactory-atlanta",
   "metadata": {},
   "outputs": [],
   "source": [
    "from sklearn.feature_extraction.text import CountVectorizer\n",
    "cv = CountVectorizer()\n",
    "X = cv.fit_transform(corpus).toarray()"
   ]
  },
  {
   "cell_type": "code",
   "execution_count": 61,
   "id": "spatial-collar",
   "metadata": {},
   "outputs": [
    {
     "data": {
      "text/plain": [
       "array([[0, 0, 0, 1, 1, 1, 0, 1, 0, 1, 1, 1, 1, 0, 0, 0, 0, 0, 1, 0, 0, 0],\n",
       "       [0, 0, 0, 0, 1, 0, 1, 1, 1, 2, 0, 2, 0, 1, 1, 1, 1, 0, 0, 1, 1, 1],\n",
       "       [1, 1, 1, 0, 0, 0, 0, 1, 1, 1, 0, 0, 0, 0, 0, 0, 0, 1, 0, 0, 0, 0]],\n",
       "      dtype=int64)"
      ]
     },
     "execution_count": 61,
     "metadata": {},
     "output_type": "execute_result"
    }
   ],
   "source": [
    "X"
   ]
  },
  {
   "cell_type": "code",
   "execution_count": null,
   "id": "steady-creature",
   "metadata": {},
   "outputs": [],
   "source": []
  }
 ],
 "metadata": {
  "kernelspec": {
   "display_name": "Python 3",
   "language": "python",
   "name": "python3"
  },
  "language_info": {
   "codemirror_mode": {
    "name": "ipython",
    "version": 3
   },
   "file_extension": ".py",
   "mimetype": "text/x-python",
   "name": "python",
   "nbconvert_exporter": "python",
   "pygments_lexer": "ipython3",
   "version": "3.8.8"
  }
 },
 "nbformat": 4,
 "nbformat_minor": 5
}
